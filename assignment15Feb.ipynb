{
 "cells": [
  {
   "cell_type": "code",
   "execution_count": null,
   "id": "5702d462-8778-4997-a350-58cd4df9c30d",
   "metadata": {},
   "outputs": [],
   "source": [
    "# Question 1: What is multiprocessing in python? Why is it useful?"
   ]
  },
  {
   "cell_type": "code",
   "execution_count": null,
   "id": "52389720-ed45-4a9a-8e0c-799476d04bac",
   "metadata": {},
   "outputs": [],
   "source": [
    "# Answer\n",
    "Multiprocessing in Python is a technique that allows a program to take advantage of multiple CPUs or cores in order to perform tasks more efficiently. Multiprocessing involves running multiple processes in parallel, each of which can execute different parts of a program simultaneously.\n",
    "\n",
    "Multiprocessing is useful in several ways:\n",
    "\n",
    "Improved performance: Multiprocessing can improve the performance of a program by allowing it to take advantage of multiple CPUs or cores. By dividing a task into multiple processes, a program can execute multiple tasks simultaneously, reducing overall execution time.\n",
    "\n",
    "Resource sharing: Multiprocessing allows multiple processes to share the same resources, such as memory and I/O devices. This can reduce the amount of memory required by a program and allow it to more efficiently use system resources.\n",
    "\n",
    "Isolation: Each process in a multiprocessing program runs in its own memory space, which means that they are isolated from each other. This can help prevent bugs and other issues that can occur when multiple threads access shared resources simultaneously.\n",
    "\n",
    "Simplified program design: Multiprocessing can simplify the design of a program by allowing it to be divided into smaller, more manageable parts. This can make it easier to write, test, and debug the program.\n",
    "\n",
    "Overall, multiprocessing is a powerful tool that can help improve the performance and efficiency of Python programs, especially those that involve computationally-intensive tasks or that need to process large amounts of data."
   ]
  },
  {
   "cell_type": "code",
   "execution_count": null,
   "id": "c5312818-c9dc-4571-b07d-b1e2ed382f52",
   "metadata": {},
   "outputs": [],
   "source": [
    "#Question 2: What are the differences between multiprocessing and multithreading?"
   ]
  },
  {
   "cell_type": "code",
   "execution_count": null,
   "id": "3bf1bfa1-5f0c-4147-97ee-690b28304850",
   "metadata": {},
   "outputs": [],
   "source": [
    "# Answer \n",
    "\n",
    "Multiprocessing and multithreading are both techniques for achieving concurrency in a program, but they have some key differences:\n",
    "\n",
    "Execution: In multiprocessing, multiple processes run in parallel, each with its own memory space and set of system resources, while in multithreading, multiple threads run concurrently within a single process, sharing the same memory space and resources.\n",
    "\n",
    "Performance: Multiprocessing can take advantage of multiple CPUs or cores to perform tasks more quickly, while multithreading can improve performance by allowing a program to perform other tasks while waiting for I/O operations to complete.\n",
    "\n",
    "Complexity: Multiprocessing is typically more complex than multithreading, as it requires communication between processes and may involve more overhead in terms of memory and resource usage.\n",
    "\n",
    "Resource sharing: In multiprocessing, processes typically share resources through inter-process communication mechanisms such as pipes, queues, and shared memory, while in multithreading, threads share resources such as memory and I/O devices directly.\n",
    "\n",
    "Overall, multiprocessing is well-suited for tasks that require high performance and can benefit from parallelization, while multithreading is better for tasks that involve I/O operations or require a simpler design. Both techniques have their own advantages and tradeoffs, and the choice between them depends on the specific needs of the program."
   ]
  },
  {
   "cell_type": "code",
   "execution_count": null,
   "id": "85d84755-a457-4f42-a8ad-f90296f8af2c",
   "metadata": {},
   "outputs": [],
   "source": [
    "# Question 3: Write a python code to create a process using the multiprocessing module."
   ]
  },
  {
   "cell_type": "code",
   "execution_count": 1,
   "id": "d952e24d-6832-4d79-81f0-4950d9af52c6",
   "metadata": {},
   "outputs": [
    {
     "name": "stdout",
     "output_type": "stream",
     "text": [
      "[1, 4, 9, 16, 25, 36, 49, 64, 81, 100]\n"
     ]
    }
   ],
   "source": [
    "#Answer \n",
    "# example 1 \n",
    "\n",
    "import multiprocessing\n",
    "\n",
    "def square(index , value ):\n",
    "    value[index]=value[index]**2\n",
    "    \n",
    "\n",
    "    \n",
    "if __name__==\"__main__\":\n",
    "    arr=multiprocessing.Array(\"i\",[1,2,3,4,5,6,7,8,9,10])\n",
    "    process=[]\n",
    "    for i in range(10):\n",
    "        m=multiprocessing.Process(target=square , args=(i , arr))\n",
    "        process.append(m)\n",
    "        m.start()\n",
    "        \n",
    "    for m in process :\n",
    "        m.join()\n",
    "    print(list(arr))"
   ]
  },
  {
   "cell_type": "code",
   "execution_count": 2,
   "id": "f6ed4af2-57c0-4b57-9c11-8d62fde68927",
   "metadata": {},
   "outputs": [
    {
     "name": "stdout",
     "output_type": "stream",
     "text": [
      "never give up\n"
     ]
    }
   ],
   "source": [
    "# example 2 \n",
    "\n",
    "import multiprocessing\n",
    "\n",
    "def function():\n",
    "    print(\"never give up\")\n",
    "    \n",
    "    \n",
    "if __name__==\"__main__\":\n",
    "    m=multiprocessing.Process(target=function)\n",
    "    m.start()\n",
    "    m.join()"
   ]
  },
  {
   "cell_type": "code",
   "execution_count": 3,
   "id": "4d918e1b-1d3f-42ac-99a2-d2b2d068ab16",
   "metadata": {},
   "outputs": [],
   "source": [
    "# Question 4: What is a multiprocessing pool in python? Why is it used?"
   ]
  },
  {
   "cell_type": "code",
   "execution_count": null,
   "id": "8d4b1dd5-ce0b-4af8-ae3e-b237ef7da60f",
   "metadata": {},
   "outputs": [],
   "source": [
    "# Answer\n",
    "A multiprocessing pool in Python is a way of creating a pool of worker processes that can execute tasks in parallel. The multiprocessing module provides the Pool class, which allows a programmer to create a fixed-size pool of worker processes that can be used to parallelize tasks.\n",
    "\n",
    "The Pool class provides a number of methods for submitting tasks to the pool, such as apply(), map(), and imap(). These methods allow a programmer to submit tasks to the pool, which are then executed in parallel by the worker processes.\n",
    "\n",
    "The Pool class is useful for applications that need to perform many independent tasks in parallel, such as data processing or scientific computing. By dividing the work among multiple processes, the overall time required to complete the tasks can be reduced, resulting in improved performance and faster results.\n",
    "\n",
    "In addition, the Pool class automatically handles the creation and management of worker processes, as well as communication between the processes, making it a convenient and easy-to-use tool for parallel programming in Python."
   ]
  },
  {
   "cell_type": "code",
   "execution_count": 4,
   "id": "64d84671-29d5-4d69-aa4b-2c7823492d5b",
   "metadata": {},
   "outputs": [
    {
     "name": "stdout",
     "output_type": "stream",
     "text": [
      "[1, 4, 9, 16, 25, 36, 49, 64, 81, 100]\n"
     ]
    }
   ],
   "source": [
    "# example \n",
    "\n",
    "def square(n):\n",
    "    return n**2\n",
    "\n",
    "if __name__==\"__main__\":\n",
    "    with multiprocessing.Pool(processes=10) as pool :\n",
    "        out = pool.map(square , [1,2,3,4,5,6,7,8,9,10])\n",
    "        print(out)"
   ]
  },
  {
   "cell_type": "code",
   "execution_count": 6,
   "id": "89b3085c-1e81-4258-a8b9-8e6af6c366a6",
   "metadata": {},
   "outputs": [],
   "source": [
    "# Question 5: How can we create a pool of worker processes in python using multiprocessing module?"
   ]
  },
  {
   "cell_type": "code",
   "execution_count": 7,
   "id": "21128d77-1fef-4790-aa5c-50352083755e",
   "metadata": {},
   "outputs": [
    {
     "name": "stdout",
     "output_type": "stream",
     "text": [
      "[10, 20, 30, 40, 50, 60, 70, 80, 90, 100]\n"
     ]
    }
   ],
   "source": [
    "import multiprocessing\n",
    "\n",
    "\n",
    "def worker(x):\n",
    "    return x*10\n",
    "\n",
    "\n",
    "\n",
    "if __name__==\"__main__\":\n",
    "    m=multiprocessing.Pool(processes=5)\n",
    "    x=[1,2,3,4,5,6,7,8,9,10]\n",
    "    z=m.map(worker,x)\n",
    "    print(z)\n",
    "    m.close()\n",
    "    m.join()"
   ]
  },
  {
   "cell_type": "code",
   "execution_count": 8,
   "id": "8c5a0412-6254-4af2-9a94-94618f82e3f3",
   "metadata": {},
   "outputs": [],
   "source": [
    "\n",
    "# Question 6 : Write a python program to create 4 processes, each process should print a different number using the multiprocessing module in python."
   ]
  },
  {
   "cell_type": "code",
   "execution_count": 9,
   "id": "13e667c5-59f3-4ffe-bbef-48b49e243399",
   "metadata": {},
   "outputs": [
    {
     "name": "stdout",
     "output_type": "stream",
     "text": [
      "0 1 2 3 "
     ]
    }
   ],
   "source": [
    "import multiprocessing\n",
    "\n",
    "def function(x):\n",
    "    print(x , end=\" \")\n",
    "    \n",
    "    \n",
    "    \n",
    "if __name__==\"__main__\":\n",
    "    process=[]\n",
    "    for i in range(4):\n",
    "        m=multiprocessing.Process(target=function , args=(i,))\n",
    "        process.append(m)\n",
    "        m.start()\n",
    "    for m in process :\n",
    "        m.join()"
   ]
  },
  {
   "cell_type": "code",
   "execution_count": null,
   "id": "9e305507-130b-4cba-a2ed-9b3a1119b21b",
   "metadata": {},
   "outputs": [],
   "source": []
  }
 ],
 "metadata": {
  "kernelspec": {
   "display_name": "Python 3 (ipykernel)",
   "language": "python",
   "name": "python3"
  },
  "language_info": {
   "codemirror_mode": {
    "name": "ipython",
    "version": 3
   },
   "file_extension": ".py",
   "mimetype": "text/x-python",
   "name": "python",
   "nbconvert_exporter": "python",
   "pygments_lexer": "ipython3",
   "version": "3.10.8"
  }
 },
 "nbformat": 4,
 "nbformat_minor": 5
}
